{
 "cells": [
  {
   "cell_type": "code",
   "execution_count": 1,
   "id": "9125c903-5800-45e0-9321-84c82a17b853",
   "metadata": {},
   "outputs": [
    {
     "ename": "ModuleNotFoundError",
     "evalue": "No module named 'azureml'",
     "output_type": "error",
     "traceback": [
      "\u001b[1;31m---------------------------------------------------------------------------\u001b[0m",
      "\u001b[1;31mModuleNotFoundError\u001b[0m                       Traceback (most recent call last)",
      "Input \u001b[1;32mIn [1]\u001b[0m, in \u001b[0;36m<cell line: 5>\u001b[1;34m()\u001b[0m\n\u001b[0;32m      2\u001b[0m \u001b[38;5;28;01mimport\u001b[39;00m \u001b[38;5;21;01mpandas\u001b[39;00m \u001b[38;5;28;01mas\u001b[39;00m \u001b[38;5;21;01mpd\u001b[39;00m\n\u001b[0;32m      3\u001b[0m \u001b[38;5;28;01mimport\u001b[39;00m \u001b[38;5;21;01mlogging\u001b[39;00m\n\u001b[1;32m----> 5\u001b[0m \u001b[38;5;28;01mimport\u001b[39;00m \u001b[38;5;21;01mazureml\u001b[39;00m\u001b[38;5;21;01m.\u001b[39;00m\u001b[38;5;21;01mcore\u001b[39;00m\n\u001b[0;32m      6\u001b[0m \u001b[38;5;28;01mfrom\u001b[39;00m \u001b[38;5;21;01mazureml\u001b[39;00m\u001b[38;5;21;01m.\u001b[39;00m\u001b[38;5;21;01mcore\u001b[39;00m\u001b[38;5;21;01m.\u001b[39;00m\u001b[38;5;21;01mexperiment\u001b[39;00m \u001b[38;5;28;01mimport\u001b[39;00m Experiment\n\u001b[0;32m      7\u001b[0m \u001b[38;5;28;01mfrom\u001b[39;00m \u001b[38;5;21;01mazureml\u001b[39;00m\u001b[38;5;21;01m.\u001b[39;00m\u001b[38;5;21;01mcore\u001b[39;00m\u001b[38;5;21;01m.\u001b[39;00m\u001b[38;5;21;01mworkspace\u001b[39;00m \u001b[38;5;28;01mimport\u001b[39;00m Workspace\n",
      "\u001b[1;31mModuleNotFoundError\u001b[0m: No module named 'azureml'"
     ]
    }
   ],
   "source": [
    "# Import necessary libraries\n",
    "import pandas as pd\n",
    "import logging\n",
    "\n",
    "import azureml.core\n",
    "from azureml.core.experiment import Experiment\n",
    "from azureml.core.workspace import Workspace\n",
    "from azureml.core.dataset import Dataset\n",
    "from azureml.train.automl import AutoMLConfig\n",
    "from azureml.core import Workspace, Experiment\n",
    "from azureml.core.compute import ComputeTarget, AmlCompute\n",
    "from azureml.core.compute_target import ComputeTargetException\n",
    "from azureml.core import Workspace, Datastore"
   ]
  },
  {
   "cell_type": "code",
   "execution_count": 6,
   "id": "1b8bae28-6c8a-4565-854b-c6bde71011db",
   "metadata": {},
   "outputs": [
    {
     "data": {
      "text/html": [
       "<div>\n",
       "<style scoped>\n",
       "    .dataframe tbody tr th:only-of-type {\n",
       "        vertical-align: middle;\n",
       "    }\n",
       "\n",
       "    .dataframe tbody tr th {\n",
       "        vertical-align: top;\n",
       "    }\n",
       "\n",
       "    .dataframe thead th {\n",
       "        text-align: right;\n",
       "    }\n",
       "</style>\n",
       "<table border=\"1\" class=\"dataframe\">\n",
       "  <thead>\n",
       "    <tr style=\"text-align: right;\">\n",
       "      <th></th>\n",
       "      <th>Unnamed: 0</th>\n",
       "      <th>date</th>\n",
       "      <th>count</th>\n",
       "      <th>Year</th>\n",
       "      <th>Month</th>\n",
       "      <th>Week</th>\n",
       "      <th>Day</th>\n",
       "      <th>Day of Week</th>\n",
       "      <th>Day of Year</th>\n",
       "      <th>traffic_volume</th>\n",
       "      <th>...</th>\n",
       "      <th>day_26</th>\n",
       "      <th>day_27</th>\n",
       "      <th>day_28</th>\n",
       "      <th>day_29</th>\n",
       "      <th>day_30</th>\n",
       "      <th>day_31</th>\n",
       "      <th>holiday</th>\n",
       "      <th>PRCP_log</th>\n",
       "      <th>SNOW_log</th>\n",
       "      <th>SNWD_log</th>\n",
       "    </tr>\n",
       "  </thead>\n",
       "  <tbody>\n",
       "    <tr>\n",
       "      <th>0</th>\n",
       "      <td>0</td>\n",
       "      <td>2014-01-01</td>\n",
       "      <td>6059.0</td>\n",
       "      <td>2014</td>\n",
       "      <td>1</td>\n",
       "      <td>1</td>\n",
       "      <td>1</td>\n",
       "      <td>2</td>\n",
       "      <td>1</td>\n",
       "      <td>497752.0</td>\n",
       "      <td>...</td>\n",
       "      <td>0</td>\n",
       "      <td>0</td>\n",
       "      <td>0</td>\n",
       "      <td>0</td>\n",
       "      <td>0</td>\n",
       "      <td>0</td>\n",
       "      <td>1</td>\n",
       "      <td>0.000000</td>\n",
       "      <td>0.000000</td>\n",
       "      <td>0.000000</td>\n",
       "    </tr>\n",
       "    <tr>\n",
       "      <th>1</th>\n",
       "      <td>31</td>\n",
       "      <td>2014-01-02</td>\n",
       "      <td>8600.0</td>\n",
       "      <td>2014</td>\n",
       "      <td>1</td>\n",
       "      <td>1</td>\n",
       "      <td>2</td>\n",
       "      <td>3</td>\n",
       "      <td>2</td>\n",
       "      <td>526682.0</td>\n",
       "      <td>...</td>\n",
       "      <td>0</td>\n",
       "      <td>0</td>\n",
       "      <td>0</td>\n",
       "      <td>0</td>\n",
       "      <td>0</td>\n",
       "      <td>0</td>\n",
       "      <td>0</td>\n",
       "      <td>0.285179</td>\n",
       "      <td>1.410987</td>\n",
       "      <td>0.000000</td>\n",
       "    </tr>\n",
       "    <tr>\n",
       "      <th>2</th>\n",
       "      <td>59</td>\n",
       "      <td>2014-01-03</td>\n",
       "      <td>1144.0</td>\n",
       "      <td>2014</td>\n",
       "      <td>1</td>\n",
       "      <td>1</td>\n",
       "      <td>3</td>\n",
       "      <td>4</td>\n",
       "      <td>3</td>\n",
       "      <td>258287.0</td>\n",
       "      <td>...</td>\n",
       "      <td>0</td>\n",
       "      <td>0</td>\n",
       "      <td>0</td>\n",
       "      <td>0</td>\n",
       "      <td>0</td>\n",
       "      <td>0</td>\n",
       "      <td>0</td>\n",
       "      <td>0.254642</td>\n",
       "      <td>1.458615</td>\n",
       "      <td>1.931521</td>\n",
       "    </tr>\n",
       "    <tr>\n",
       "      <th>3</th>\n",
       "      <td>90</td>\n",
       "      <td>2014-01-04</td>\n",
       "      <td>2292.0</td>\n",
       "      <td>2014</td>\n",
       "      <td>1</td>\n",
       "      <td>1</td>\n",
       "      <td>4</td>\n",
       "      <td>5</td>\n",
       "      <td>4</td>\n",
       "      <td>474493.0</td>\n",
       "      <td>...</td>\n",
       "      <td>0</td>\n",
       "      <td>0</td>\n",
       "      <td>0</td>\n",
       "      <td>0</td>\n",
       "      <td>0</td>\n",
       "      <td>0</td>\n",
       "      <td>0</td>\n",
       "      <td>0.000000</td>\n",
       "      <td>0.000000</td>\n",
       "      <td>1.931521</td>\n",
       "    </tr>\n",
       "    <tr>\n",
       "      <th>4</th>\n",
       "      <td>120</td>\n",
       "      <td>2014-01-05</td>\n",
       "      <td>2678.0</td>\n",
       "      <td>2014</td>\n",
       "      <td>1</td>\n",
       "      <td>1</td>\n",
       "      <td>5</td>\n",
       "      <td>6</td>\n",
       "      <td>5</td>\n",
       "      <td>454609.0</td>\n",
       "      <td>...</td>\n",
       "      <td>0</td>\n",
       "      <td>0</td>\n",
       "      <td>0</td>\n",
       "      <td>0</td>\n",
       "      <td>0</td>\n",
       "      <td>0</td>\n",
       "      <td>0</td>\n",
       "      <td>0.131028</td>\n",
       "      <td>0.000000</td>\n",
       "      <td>1.589235</td>\n",
       "    </tr>\n",
       "  </tbody>\n",
       "</table>\n",
       "<p>5 rows × 83 columns</p>\n",
       "</div>"
      ],
      "text/plain": [
       "   Unnamed: 0        date   count  Year  Month  Week  Day  Day of Week  \\\n",
       "0           0  2014-01-01  6059.0  2014      1     1    1            2   \n",
       "1          31  2014-01-02  8600.0  2014      1     1    2            3   \n",
       "2          59  2014-01-03  1144.0  2014      1     1    3            4   \n",
       "3          90  2014-01-04  2292.0  2014      1     1    4            5   \n",
       "4         120  2014-01-05  2678.0  2014      1     1    5            6   \n",
       "\n",
       "   Day of Year  traffic_volume  ...  day_26  day_27  day_28  day_29  day_30  \\\n",
       "0            1        497752.0  ...       0       0       0       0       0   \n",
       "1            2        526682.0  ...       0       0       0       0       0   \n",
       "2            3        258287.0  ...       0       0       0       0       0   \n",
       "3            4        474493.0  ...       0       0       0       0       0   \n",
       "4            5        454609.0  ...       0       0       0       0       0   \n",
       "\n",
       "   day_31  holiday  PRCP_log  SNOW_log  SNWD_log  \n",
       "0       0        1  0.000000  0.000000  0.000000  \n",
       "1       0        0  0.285179  1.410987  0.000000  \n",
       "2       0        0  0.254642  1.458615  1.931521  \n",
       "3       0        0  0.000000  0.000000  1.931521  \n",
       "4       0        0  0.131028  0.000000  1.589235  \n",
       "\n",
       "[5 rows x 83 columns]"
      ]
     },
     "execution_count": 6,
     "metadata": {},
     "output_type": "execute_result"
    }
   ],
   "source": [
    "df_nyc = pd.read_csv(\"all_features.csv\") # Change the file path to the dataset if not\n",
    "df_nyc.head(5)"
   ]
  },
  {
   "cell_type": "code",
   "execution_count": 7,
   "id": "533674dc-c59a-4f7d-8ae7-9e21fb59992a",
   "metadata": {},
   "outputs": [],
   "source": [
    "df_nyc.drop(columns = {\"Unnamed: 0\"}, inplace = True)"
   ]
  },
  {
   "cell_type": "code",
   "execution_count": 8,
   "id": "6294bf87-039b-4213-a71a-aafd3f48d0df",
   "metadata": {},
   "outputs": [],
   "source": [
    "df_nyc.drop(columns = {\"date\"}, inplace = True)"
   ]
  },
  {
   "cell_type": "code",
   "execution_count": 9,
   "id": "ec476d97-c1f9-4e20-8461-569af14e6553",
   "metadata": {},
   "outputs": [],
   "source": [
    "train_data = df_nyc[df_nyc[\"Year\"] != 2021]\n",
    "test_data =  df_nyc[df_nyc[\"Year\"] == 2021]"
   ]
  },
  {
   "cell_type": "code",
   "execution_count": 10,
   "id": "ce75bf21-75f7-4c67-8c70-e7d8ddef0086",
   "metadata": {},
   "outputs": [
    {
     "ename": "NameError",
     "evalue": "name 'Workspace' is not defined",
     "output_type": "error",
     "traceback": [
      "\u001b[1;31m---------------------------------------------------------------------------\u001b[0m",
      "\u001b[1;31mNameError\u001b[0m                                 Traceback (most recent call last)",
      "Input \u001b[1;32mIn [10]\u001b[0m, in \u001b[0;36m<cell line: 3>\u001b[1;34m()\u001b[0m\n\u001b[0;32m      1\u001b[0m \u001b[38;5;66;03m# Logging into azure\u001b[39;00m\n\u001b[0;32m      2\u001b[0m \u001b[38;5;66;03m# Configure workspace and experiment\u001b[39;00m\n\u001b[1;32m----> 3\u001b[0m ws \u001b[38;5;241m=\u001b[39m \u001b[43mWorkspace\u001b[49m\u001b[38;5;241m.\u001b[39mfrom_config() \u001b[38;5;66;03m#This will automatically look for the config.json that has the keys for sign in Azure. \u001b[39;00m\n\u001b[0;32m      4\u001b[0m exp \u001b[38;5;241m=\u001b[39m Experiment(workspace\u001b[38;5;241m=\u001b[39mws, name\u001b[38;5;241m=\u001b[39m\u001b[38;5;124m\"\u001b[39m\u001b[38;5;124mbike_sharing_6_12\u001b[39m\u001b[38;5;124m\"\u001b[39m)\n",
      "\u001b[1;31mNameError\u001b[0m: name 'Workspace' is not defined"
     ]
    }
   ],
   "source": [
    "# Logging into azure\n",
    "# Configure workspace and experiment\n",
    "ws = Workspace.from_config() #This will automatically look for the config.json that has the keys for sign in Azure. \n",
    "exp = Experiment(workspace=ws, name=\"bike_sharing_6_12\") #Name the project "
   ]
  },
  {
   "cell_type": "code",
   "execution_count": 12,
   "id": "75585f96-6e2b-4fb3-93f8-70444fe14374",
   "metadata": {},
   "outputs": [],
   "source": [
    "experiment_name = \"bike_sharing_6_12\""
   ]
  },
  {
   "cell_type": "code",
   "execution_count": 13,
   "id": "b2aa5f4a-d9be-44e7-821f-19a3891f90db",
   "metadata": {},
   "outputs": [
    {
     "ename": "NameError",
     "evalue": "name 'ws' is not defined",
     "output_type": "error",
     "traceback": [
      "\u001b[1;31m---------------------------------------------------------------------------\u001b[0m",
      "\u001b[1;31mNameError\u001b[0m                                 Traceback (most recent call last)",
      "Input \u001b[1;32mIn [13]\u001b[0m, in \u001b[0;36m<cell line: 2>\u001b[1;34m()\u001b[0m\n\u001b[0;32m      1\u001b[0m output \u001b[38;5;241m=\u001b[39m {}\n\u001b[1;32m----> 2\u001b[0m output[\u001b[38;5;124m\"\u001b[39m\u001b[38;5;124mSubscription ID\u001b[39m\u001b[38;5;124m\"\u001b[39m] \u001b[38;5;241m=\u001b[39m \u001b[43mws\u001b[49m\u001b[38;5;241m.\u001b[39msubscription_id\n\u001b[0;32m      3\u001b[0m output[\u001b[38;5;124m\"\u001b[39m\u001b[38;5;124mWorkspace\u001b[39m\u001b[38;5;124m\"\u001b[39m] \u001b[38;5;241m=\u001b[39m ws\u001b[38;5;241m.\u001b[39mname\n\u001b[0;32m      4\u001b[0m output[\u001b[38;5;124m\"\u001b[39m\u001b[38;5;124mResource Group\u001b[39m\u001b[38;5;124m\"\u001b[39m] \u001b[38;5;241m=\u001b[39m ws\u001b[38;5;241m.\u001b[39mresource_group\n",
      "\u001b[1;31mNameError\u001b[0m: name 'ws' is not defined"
     ]
    }
   ],
   "source": [
    "output = {}\n",
    "output[\"Subscription ID\"] = ws.subscription_id\n",
    "output[\"Workspace\"] = ws.name\n",
    "output[\"Resource Group\"] = ws.resource_group\n",
    "output[\"Location\"] = ws.location\n",
    "output[\"Run History Name\"] = experiment_name\n",
    "output[\"SDK Version\"] = azureml.core.VERSION\n",
    "pd.set_option(\"display.max_colwidth\", None)\n",
    "outputDf = pd.DataFrame(data=output, index=[\"\"])\n",
    "outputDf.T\n"
   ]
  },
  {
   "cell_type": "code",
   "execution_count": 2,
   "id": "e70c4177-dfe9-4244-9aab-ccb7886d3b92",
   "metadata": {},
   "outputs": [
    {
     "ename": "NameError",
     "evalue": "name 'ComputeTargetException' is not defined",
     "output_type": "error",
     "traceback": [
      "\u001b[1;31m---------------------------------------------------------------------------\u001b[0m",
      "\u001b[1;31mNameError\u001b[0m                                 Traceback (most recent call last)",
      "Input \u001b[1;32mIn [2]\u001b[0m, in \u001b[0;36m<cell line: 5>\u001b[1;34m()\u001b[0m\n\u001b[0;32m      5\u001b[0m \u001b[38;5;28;01mtry\u001b[39;00m:\n\u001b[1;32m----> 6\u001b[0m     compute_target \u001b[38;5;241m=\u001b[39m \u001b[43mComputeTarget\u001b[49m(workspace\u001b[38;5;241m=\u001b[39mws, name\u001b[38;5;241m=\u001b[39mcpu_cluster_name)\n\u001b[0;32m      7\u001b[0m     \u001b[38;5;28mprint\u001b[39m(\u001b[38;5;124m\"\u001b[39m\u001b[38;5;124mFound existing cluster, use it.\u001b[39m\u001b[38;5;124m\"\u001b[39m)\n",
      "\u001b[1;31mNameError\u001b[0m: name 'ComputeTarget' is not defined",
      "\nDuring handling of the above exception, another exception occurred:\n",
      "\u001b[1;31mNameError\u001b[0m                                 Traceback (most recent call last)",
      "Input \u001b[1;32mIn [2]\u001b[0m, in \u001b[0;36m<cell line: 5>\u001b[1;34m()\u001b[0m\n\u001b[0;32m      6\u001b[0m     compute_target \u001b[38;5;241m=\u001b[39m ComputeTarget(workspace\u001b[38;5;241m=\u001b[39mws, name\u001b[38;5;241m=\u001b[39mcpu_cluster_name)\n\u001b[0;32m      7\u001b[0m     \u001b[38;5;28mprint\u001b[39m(\u001b[38;5;124m\"\u001b[39m\u001b[38;5;124mFound existing cluster, use it.\u001b[39m\u001b[38;5;124m\"\u001b[39m)\n\u001b[1;32m----> 8\u001b[0m \u001b[38;5;28;01mexcept\u001b[39;00m \u001b[43mComputeTargetException\u001b[49m:\n\u001b[0;32m      9\u001b[0m     compute_config \u001b[38;5;241m=\u001b[39m AmlCompute\u001b[38;5;241m.\u001b[39mprovisioning_configuration(\n\u001b[0;32m     10\u001b[0m         vm_size\u001b[38;5;241m=\u001b[39m\u001b[38;5;124m\"\u001b[39m\u001b[38;5;124mSTANDARD_D2_V2\u001b[39m\u001b[38;5;124m\"\u001b[39m, max_nodes\u001b[38;5;241m=\u001b[39m\u001b[38;5;241m20\u001b[39m\n\u001b[0;32m     11\u001b[0m     )\n\u001b[0;32m     12\u001b[0m     compute_target \u001b[38;5;241m=\u001b[39m ComputeTarget\u001b[38;5;241m.\u001b[39mcreate(ws, cpu_cluster_name, compute_config)\n",
      "\u001b[1;31mNameError\u001b[0m: name 'ComputeTargetException' is not defined"
     ]
    }
   ],
   "source": [
    "# Choose a name for your CPU cluster\n",
    "cpu_cluster_name = \"cpu-cluster\"\n",
    "\n",
    "# Verify that cluster exist already. If not, create computer clusters\n",
    "try:\n",
    "    compute_target = ComputeTarget(workspace=ws, name=cpu_cluster_name)\n",
    "    print(\"Found existing cluster, use it.\")\n",
    "except ComputeTargetException:\n",
    "    compute_config = AmlCompute.provisioning_configuration(\n",
    "        vm_size=\"STANDARD_D2_V2\", max_nodes=20\n",
    "    )\n",
    "    compute_target = ComputeTarget.create(ws, cpu_cluster_name, compute_config)\n",
    "\n",
    "compute_target.wait_for_completion(show_output=True)"
   ]
  },
  {
   "cell_type": "code",
   "execution_count": 3,
   "id": "264e86be-6edd-432e-a577-0f15eaa1a666",
   "metadata": {},
   "outputs": [
    {
     "ename": "NameError",
     "evalue": "name 'ws' is not defined",
     "output_type": "error",
     "traceback": [
      "\u001b[1;31m---------------------------------------------------------------------------\u001b[0m",
      "\u001b[1;31mNameError\u001b[0m                                 Traceback (most recent call last)",
      "Input \u001b[1;32mIn [3]\u001b[0m, in \u001b[0;36m<cell line: 2>\u001b[1;34m()\u001b[0m\n\u001b[0;32m      1\u001b[0m \u001b[38;5;66;03m# set up datastores\u001b[39;00m\n\u001b[1;32m----> 2\u001b[0m dstore \u001b[38;5;241m=\u001b[39m \u001b[43mws\u001b[49m\u001b[38;5;241m.\u001b[39mget_default_datastore()\n",
      "\u001b[1;31mNameError\u001b[0m: name 'ws' is not defined"
     ]
    }
   ],
   "source": [
    "# set up datastores\n",
    "dstore = ws.get_default_datastore()"
   ]
  },
  {
   "cell_type": "code",
   "execution_count": 4,
   "id": "d4cb11a7-6820-4e11-aa1a-2f26bf8324d3",
   "metadata": {},
   "outputs": [
    {
     "ename": "NameError",
     "evalue": "name 'ws' is not defined",
     "output_type": "error",
     "traceback": [
      "\u001b[1;31m---------------------------------------------------------------------------\u001b[0m",
      "\u001b[1;31mNameError\u001b[0m                                 Traceback (most recent call last)",
      "Input \u001b[1;32mIn [4]\u001b[0m, in \u001b[0;36m<cell line: 2>\u001b[1;34m()\u001b[0m\n\u001b[0;32m      1\u001b[0m \u001b[38;5;66;03m# Upload the train dataset into the cloud\u001b[39;00m\n\u001b[1;32m----> 2\u001b[0m datastore \u001b[38;5;241m=\u001b[39m \u001b[43mws\u001b[49m\u001b[38;5;241m.\u001b[39mget_default_datastore()\n\u001b[0;32m      3\u001b[0m dataset \u001b[38;5;241m=\u001b[39m Dataset\u001b[38;5;241m.\u001b[39mTabular\u001b[38;5;241m.\u001b[39mregister_pandas_dataframe(train_data, datastore, \u001b[38;5;124m\"\u001b[39m\u001b[38;5;124m6_12_train_transformed\u001b[39m\u001b[38;5;124m\"\u001b[39m)\n",
      "\u001b[1;31mNameError\u001b[0m: name 'ws' is not defined"
     ]
    }
   ],
   "source": [
    "# Upload the train dataset into the cloud\n",
    "datastore = ws.get_default_datastore()\n",
    "dataset = Dataset.Tabular.register_pandas_dataframe(train_data, datastore, \"6_12_train_transformed\")"
   ]
  },
  {
   "cell_type": "code",
   "execution_count": 5,
   "id": "e25468cb-78b4-493e-be81-608693bde96b",
   "metadata": {},
   "outputs": [
    {
     "ename": "NameError",
     "evalue": "name 'ws' is not defined",
     "output_type": "error",
     "traceback": [
      "\u001b[1;31m---------------------------------------------------------------------------\u001b[0m",
      "\u001b[1;31mNameError\u001b[0m                                 Traceback (most recent call last)",
      "Input \u001b[1;32mIn [5]\u001b[0m, in \u001b[0;36m<cell line: 2>\u001b[1;34m()\u001b[0m\n\u001b[0;32m      1\u001b[0m \u001b[38;5;66;03m# Upload the test dataset into the cloud\u001b[39;00m\n\u001b[1;32m----> 2\u001b[0m datastore \u001b[38;5;241m=\u001b[39m \u001b[43mws\u001b[49m\u001b[38;5;241m.\u001b[39mget_default_datastore()\n\u001b[0;32m      3\u001b[0m dataset_test \u001b[38;5;241m=\u001b[39m Dataset\u001b[38;5;241m.\u001b[39mTabular\u001b[38;5;241m.\u001b[39mregister_pandas_dataframe(test_data, datastore, \u001b[38;5;124m\"\u001b[39m\u001b[38;5;124m6_12_test_transformed\u001b[39m\u001b[38;5;124m\"\u001b[39m)\n",
      "\u001b[1;31mNameError\u001b[0m: name 'ws' is not defined"
     ]
    }
   ],
   "source": [
    "# Upload the test dataset into the cloud\n",
    "datastore = ws.get_default_datastore()\n",
    "dataset_test = Dataset.Tabular.register_pandas_dataframe(test_data, datastore, \"6_12_test_transformed\")"
   ]
  },
  {
   "cell_type": "code",
   "execution_count": 13,
   "id": "9a68ae42-9fac-4bb3-a526-409130fde338",
   "metadata": {},
   "outputs": [],
   "source": [
    "# Label in the dataset for dependent variables\n",
    "label = \"count\""
   ]
  },
  {
   "cell_type": "code",
   "execution_count": 14,
   "id": "ab5bfbc0-68b0-449a-9c22-3c0b4e2e9285",
   "metadata": {},
   "outputs": [],
   "source": [
    "# Setting the autoML\n",
    "automl_settings = {\n",
    "    \"n_cross_validations\": 3,\n",
    "    \"primary_metric\": \"r2_score\",\n",
    "    \"enable_early_stopping\": True,\n",
    "    \"experiment_timeout_hours\": 1,  # for real scenarios we reccommend a timeout of at least one hour\n",
    "    \"max_concurrent_iterations\": 4,\n",
    "    \"max_cores_per_iteration\": -1,\n",
    "    \"verbosity\": logging.INFO,\n",
    "}\n",
    "automl_config = AutoMLConfig(\n",
    "    task=\"regression\",\n",
    "    compute_target=compute_target,\n",
    "    training_data=dataset,\n",
    "    label_column_name=label,\n",
    "    **automl_settings,\n",
    ")"
   ]
  },
  {
   "cell_type": "code",
   "execution_count": 15,
   "id": "3adc5529-c7b5-4395-9f30-62ab55b3bf9f",
   "metadata": {},
   "outputs": [
    {
     "name": "stdout",
     "output_type": "stream",
     "text": [
      "Submitting remote run.\n"
     ]
    },
    {
     "data": {
      "text/html": [
       "<table style=\"width:100%\"><tr><th>Experiment</th><th>Id</th><th>Type</th><th>Status</th><th>Details Page</th><th>Docs Page</th></tr><tr><td>bike_sharing_6_12</td><td>AutoML_4621d232-2939-487f-9c6e-c1f060cda9a9</td><td>automl</td><td>NotStarted</td><td><a href=\"https://ml.azure.com/runs/AutoML_4621d232-2939-487f-9c6e-c1f060cda9a9?wsid=/subscriptions/56af1ab2-007e-4ac8-aaf7-eedb1e4990ce/resourcegroups/big_data_project/workspaces/big_data_project&amp;tid=adee44b2-91fc-40f1-abdd-9cc29351b5fd\" target=\"_blank\" rel=\"noopener\">Link to Azure Machine Learning studio</a></td><td><a href=\"https://docs.microsoft.com/en-us/python/api/overview/azure/ml/intro?view=azure-ml-py\" target=\"_blank\" rel=\"noopener\">Link to Documentation</a></td></tr></table>"
      ],
      "text/plain": [
       "<IPython.core.display.HTML object>"
      ]
     },
     "metadata": {},
     "output_type": "display_data"
    }
   ],
   "source": [
    "# Submit the job and go to Details Page for detailed results\n",
    "remote_run = exp.submit(automl_config, show_output=False)"
   ]
  },
  {
   "cell_type": "code",
   "execution_count": null,
   "id": "835af46a-907c-4ff2-ae37-16a969f33f78",
   "metadata": {},
   "outputs": [],
   "source": []
  }
 ],
 "metadata": {
  "kernelspec": {
   "display_name": "Python 3 (ipykernel)",
   "language": "python",
   "name": "python3"
  },
  "language_info": {
   "codemirror_mode": {
    "name": "ipython",
    "version": 3
   },
   "file_extension": ".py",
   "mimetype": "text/x-python",
   "name": "python",
   "nbconvert_exporter": "python",
   "pygments_lexer": "ipython3",
   "version": "3.9.12"
  }
 },
 "nbformat": 4,
 "nbformat_minor": 5
}
